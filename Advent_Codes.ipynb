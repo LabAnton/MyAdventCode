{
 "cells": [
  {
   "cell_type": "code",
   "execution_count": 6,
   "metadata": {
    "scrolled": true
   },
   "outputs": [],
   "source": [
    "#Advent Day 2:"
   ]
  },
  {
   "cell_type": "code",
   "execution_count": 7,
   "metadata": {
    "scrolled": false
   },
   "outputs": [
    {
     "ename": "IndexError",
     "evalue": "list index out of range",
     "output_type": "error",
     "traceback": [
      "\u001b[1;31m---------------------------------------------------------------------------\u001b[0m",
      "\u001b[1;31mIndexError\u001b[0m                                Traceback (most recent call last)",
      "\u001b[1;32m<ipython-input-7-962a2d71cd93>\u001b[0m in \u001b[0;36m<module>\u001b[1;34m\u001b[0m\n\u001b[0;32m     10\u001b[0m         \u001b[0mRange\u001b[0m\u001b[1;33m.\u001b[0m\u001b[0mappend\u001b[0m\u001b[1;33m(\u001b[0m\u001b[0ml\u001b[0m\u001b[1;33m[\u001b[0m\u001b[1;36m0\u001b[0m\u001b[1;33m]\u001b[0m\u001b[1;33m)\u001b[0m\u001b[1;33m\u001b[0m\u001b[1;33m\u001b[0m\u001b[0m\n\u001b[0;32m     11\u001b[0m         \u001b[0mLetter\u001b[0m\u001b[1;33m.\u001b[0m\u001b[0mappend\u001b[0m\u001b[1;33m(\u001b[0m\u001b[0ml\u001b[0m\u001b[1;33m[\u001b[0m\u001b[1;36m1\u001b[0m\u001b[1;33m]\u001b[0m\u001b[1;33m)\u001b[0m\u001b[1;33m\u001b[0m\u001b[1;33m\u001b[0m\u001b[0m\n\u001b[1;32m---> 12\u001b[1;33m         \u001b[0mText\u001b[0m\u001b[1;33m.\u001b[0m\u001b[0mappend\u001b[0m\u001b[1;33m(\u001b[0m\u001b[0ml\u001b[0m\u001b[1;33m[\u001b[0m\u001b[1;36m2\u001b[0m\u001b[1;33m]\u001b[0m\u001b[1;33m)\u001b[0m\u001b[1;33m\u001b[0m\u001b[1;33m\u001b[0m\u001b[0m\n\u001b[0m\u001b[0;32m     13\u001b[0m         \u001b[0mAnswer\u001b[0m\u001b[1;33m.\u001b[0m\u001b[0mappend\u001b[0m\u001b[1;33m(\u001b[0m\u001b[1;33m[\u001b[0m\u001b[1;33m]\u001b[0m\u001b[1;33m)\u001b[0m\u001b[1;33m\u001b[0m\u001b[1;33m\u001b[0m\u001b[0m\n\u001b[0;32m     14\u001b[0m         \u001b[0mCount\u001b[0m\u001b[1;33m.\u001b[0m\u001b[0mappend\u001b[0m\u001b[1;33m(\u001b[0m\u001b[1;33m[\u001b[0m\u001b[1;33m]\u001b[0m\u001b[1;33m)\u001b[0m\u001b[1;33m\u001b[0m\u001b[1;33m\u001b[0m\u001b[0m\n",
      "\u001b[1;31mIndexError\u001b[0m: list index out of range"
     ]
    }
   ],
   "source": [
    "Range = []\n",
    "Letter = []\n",
    "Text = []\n",
    "Answer = []\n",
    "Count = []\n",
    "    \n",
    "with open('advent.txt','r') as Doc:\n",
    "    for line in Doc.readlines():\n",
    "        l = line.strip().split(' ')\n",
    "        Range.append(l[0])\n",
    "        Letter.append(l[1])\n",
    "        Text.append(l[2])\n",
    "        Answer.append([])\n",
    "        Count.append([])\n",
    "\n",
    "for i in range(0, len(Letter)):\n",
    "    Letter[i] = Letter[i].replace(':','')\n",
    "    Range[i] = Range[i].replace('-',' ')\n",
    "    if Letter[i] == Text[i][int(Range[i][0:2])-1] and Letter[i]==Text[i][int(Range[i][2:5])-1]:\n",
    "        Count[i] = 0\n",
    "    elif Letter[i] == Text[i][int(Range[i][0:2])-1]:\n",
    "        Count[i] = 1\n",
    "    elif Letter[i]==Text[i][int(Range[i][2:5])-1]:\n",
    "        Count[i] = 1\n",
    "    else:\n",
    "        Count[i] = 0\n",
    "        \n",
    "x = sum(Count)"
   ]
  },
  {
   "cell_type": "code",
   "execution_count": 5,
   "metadata": {},
   "outputs": [],
   "source": [
    "#Advent Day 3:"
   ]
  },
  {
   "cell_type": "code",
   "execution_count": 3,
   "metadata": {
    "scrolled": true
   },
   "outputs": [
    {
     "name": "stdout",
     "output_type": "stream",
     "text": [
      "176\n"
     ]
    }
   ],
   "source": [
    "slope = []\n",
    "\n",
    "with open(r'C:\\Users\\User\\Desktop\\Advent-Codes\\advent.txt','r') as Doc:\n",
    "        for line in Doc.readlines():\n",
    "            l = line.strip().split('\\n')\n",
    "            slope.append(l[0])\n",
    "    \n",
    "k=[1,3,5,7]\n",
    "Count = 0\n",
    "final = 1\n",
    "j = 0\n",
    "r =range(1,len(slope))\n",
    "for number in k:\n",
    "    y = number\n",
    "    j = number\n",
    "    for i in r:\n",
    "        Symbol = slope[i][j]\n",
    "        if Symbol == '#':\n",
    "            Count = Count + 1\n",
    "        j = j + y\n",
    "        if j >= len(slope[1]):\n",
    "            j = j-len(slope[1])\n",
    "    print(Count)\n",
    "    final = final * Count\n",
    "    Count = 0\n",
    "\n",
    "Count = 0\n",
    "j=1\n",
    "for i in range(2,len(slope),2):\n",
    "    Symbol = slope[i][j]\n",
    "    if Symbol == '#':\n",
    "        Count = Count + 1\n",
    "    j = j + 1\n",
    "    if j >= len(slope[1]):\n",
    "        j = j-len(slope[1])\n",
    "print(Count)\n",
    "x = Count * final"
   ]
  },
  {
   "cell_type": "code",
   "execution_count": null,
   "metadata": {},
   "outputs": [],
   "source": [
    "#Advent Day 4:"
   ]
  },
  {
   "cell_type": "code",
   "execution_count": null,
   "metadata": {},
   "outputs": [],
   "source": [
    "import re\n",
    "passport = []\n",
    "new_passport = []\n",
    "file = r'C:\\Users\\User\\Desktop\\Advent-Codes\\advent.txt'\n",
    "with open(r'C:\\Users\\User\\Desktop\\Advent-Codes\\advent.txt','r') as Doc:\n",
    "    for line in Doc.readlines():\n",
    "        l = line.strip().split('\\n')\n",
    "        passport.append(l[0])\n",
    "        new_passport.append([])\n",
    "j = 0\n",
    "for i in range(len(passport)):\n",
    "    new_passport[j] = str(new_passport[j]) +' '+ str(passport[i])\n",
    "    if i < len(passport)-1:\n",
    "        if len(passport[i+1]) == 0:\n",
    "            j = j + 1\n",
    "        else:\n",
    "           continue\n",
    "Count = 0\n",
    "del new_passport[299:1169]\n",
    "for i in range(len(new_passport)):\n",
    "    new_passport[i] = new_passport[i].replace('[]  ','')\n",
    "    new_passport[i] = new_passport[i].replace('[] ','')\n",
    "    if 'byr' in new_passport[i]:\n",
    "        if 'iyr' in new_passport[i]:\n",
    "            if 'eyr' in new_passport[i]:\n",
    "                if 'hgt' in new_passport[i]:\n",
    "                    if 'hcl' in new_passport[i]:\n",
    "                        if 'ecl' in new_passport[i]:\n",
    "                            if 'pid' in new_passport[i]:\n",
    "                                Count = Count+1\n",
    "valid = 0\n",
    "for line in new_passport:\n",
    "    if (re.search(r\"byr:19[2-9]\\d|byr:200[0-2]\",line) and re.search(r\"iyr:201\\d|iyr:2020\",line) and re.search(r\"eyr:202\\d|eyr:2030\",line) and re.search(r\"hgt:1[5-8]\\dcm|hgt:19[0-3]cm|hgt:59in|hgt:6\\din|hgt:7[0-6]in\", line) and re.search(r\"hcl:#[a-z0-9]{6}\", line) and re.search(r\"ecl:(amb|blu|brn|gry|grn|hzl|oth)\", line) and re.search(r\"pid:\\d{9}\\b\", line)):\n",
    "        valid = valid + 1"
   ]
  },
  {
   "cell_type": "code",
   "execution_count": null,
   "metadata": {},
   "outputs": [],
   "source": [
    "#Advent Day 5:"
   ]
  },
  {
   "cell_type": "code",
   "execution_count": null,
   "metadata": {},
   "outputs": [],
   "source": [
    "seat = []\n",
    "array = []\n",
    "with open(r'C:\\Users\\User\\Desktop\\Advent-Codes\\advent.txt','r') as Doc:\n",
    "        for line in Doc.readlines():\n",
    "            l = line.split('\\n')\n",
    "            seat.append(l[0])\n",
    "            array.append([])\n",
    "i = 0\n",
    "for passenger in seat:\n",
    "    lo = 0\n",
    "    hi = 127\n",
    "    lo_1 = 0\n",
    "    hi_1 = 7\n",
    "    for j in range(0,len(passenger)):\n",
    "           mid = round(lo+(hi-lo)/2)\n",
    "           mid_1 = round(lo_1+(hi_1-lo_1)/2)\n",
    "           if passenger[j] == 'F':\n",
    "               hi = mid-1\n",
    "           elif passenger[j] == 'B':\n",
    "               lo = mid\n",
    "           elif passenger[j] == 'R':\n",
    "               lo_1 = mid_1\n",
    "               if j == 9:\n",
    "                   mid_1=mid_1+1\n",
    "           elif passenger[j] == 'L':\n",
    "               hi_1 = mid_1-1\n",
    "    if passenger[6] == 'B':\n",
    "        mid = mid +1\n",
    "    array[i] = mid * 8 + mid_1\n",
    "    i = i+1;\n",
    "print(max(array))\n",
    "array.sort()\n",
    "i=6\n",
    "for ID in array:\n",
    "    if ID == i:\n",
    "        i=i+1\n",
    "    else:\n",
    "        print(i)\n",
    "        quit"
   ]
  },
  {
   "cell_type": "code",
   "execution_count": null,
   "metadata": {},
   "outputs": [],
   "source": [
    "#Advent Day 6"
   ]
  },
  {
   "cell_type": "code",
   "execution_count": null,
   "metadata": {},
   "outputs": [],
   "source": [
    "with open(r'C:\\Users\\User\\Desktop\\Advent-Codes\\advent.txt','r') as Doc:\n",
    "    content = Doc.read()\n",
    "    lines = content.split(\"\\n\\n\")\n",
    "    input = [line.replace(\"\\n\", \"\") for line in lines]\n",
    "\n",
    "valid_letter = []\n",
    "count_1 = 0\n",
    "same = 0\n",
    "for line in input:    \n",
    "    for i in range(0,len(line)):\n",
    "        if line[i] not in valid_letter:\n",
    "            valid_letter.append(line[i])\n",
    "            count_1 = count_1 + 1\n",
    "        \n",
    "    valid_letter = []\n",
    "\n",
    "#change input that '\\n' doesnt get replaced\n",
    "\n",
    "valid_letter = ['a','b','c','d','e','f','g','h','i','j','k','l','m','n','o','p','q','r','s','t','u','v','w','x','y','z']\n",
    "count_2 = 0\n",
    "sub = '\\n'\n",
    "sub_count = 0\n",
    "for line in input:    \n",
    "    sub_count=line.count(sub)+1\n",
    "    for i in range(0,26):\n",
    "        x = line.count(valid_letter[i])\n",
    "        if x == sub_count:\n",
    "            count_2 = count_2 + 1"
   ]
  },
  {
   "cell_type": "code",
   "execution_count": null,
   "metadata": {},
   "outputs": [],
   "source": [
    "#Advent Day 7"
   ]
  },
  {
   "cell_type": "code",
   "execution_count": 3,
   "metadata": {},
   "outputs": [
    {
     "ename": "SyntaxError",
     "evalue": "invalid syntax (<ipython-input-3-bb6c682bf58c>, line 1)",
     "output_type": "error",
     "traceback": [
      "\u001b[1;36m  File \u001b[1;32m\"<ipython-input-3-bb6c682bf58c>\"\u001b[1;36m, line \u001b[1;32m1\u001b[0m\n\u001b[1;33m    git add Advent_Codes.ipynb\u001b[0m\n\u001b[1;37m        ^\u001b[0m\n\u001b[1;31mSyntaxError\u001b[0m\u001b[1;31m:\u001b[0m invalid syntax\n"
     ]
    }
   ],
   "source": [
    "with open (r'C:\\Users\\User\\Desktop\\Advent-Codes\\advent.txt','r') as file:\n",
    "    content = file.read()\n",
    "    lines = content.split(\"\\n\")\n",
    "    input = lines\n",
    "\n",
    "bag = []\n",
    "count = 0\n",
    "t = 0\n",
    "for line in input:\n",
    "    if 'shiny gold' in line:\n",
    "        specific_bag = line.split(\" bags\")[:2]\n",
    "        if specific_bag[0] != 'shiny gold':\n",
    "            bag.append(specific_bag[0])\n",
    "            count = count + 1\n",
    "while t < 10:\n",
    "    for line in input:\n",
    "        for x in bag:\n",
    "            if x in line:\n",
    "                banger = line.split(\" bags\")\n",
    "                if x not in banger[0]:\n",
    "                    if banger[0] not in bag:\n",
    "                        bag.append(banger[0])\n",
    "                        count = count + 1                \n",
    "    t = t+1"
   ]
  },
  {
   "cell_type": "code",
   "execution_count": null,
   "metadata": {},
   "outputs": [],
   "source": []
  }
 ],
 "metadata": {
  "kernelspec": {
   "display_name": "Python 3",
   "language": "python",
   "name": "python3"
  },
  "language_info": {
   "codemirror_mode": {
    "name": "ipython",
    "version": 3
   },
   "file_extension": ".py",
   "mimetype": "text/x-python",
   "name": "python",
   "nbconvert_exporter": "python",
   "pygments_lexer": "ipython3",
   "version": "3.8.3"
  }
 },
 "nbformat": 4,
 "nbformat_minor": 4
}
